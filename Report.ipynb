{
 "cells": [
  {
   "cell_type": "markdown",
   "metadata": {
    "collapsed": true
   },
   "source": [
    "## Introduction"
   ]
  },
  {
   "cell_type": "markdown",
   "metadata": {},
   "source": [
    "Every day many people are involved in car accidents around the world, while road accidents is one of the main causes of casualties. Unfortuantely, United Kingdom has many severe car accidents as well."
   ]
  },
  {
   "cell_type": "markdown",
   "metadata": {},
   "source": [
    "The purpose of this project is to analyze different factors like weather and road conditions, accident severity, location, date and the number of recorded cases and help authorities and drivers to make the roads as safe as possible."
   ]
  },
  {
   "cell_type": "markdown",
   "metadata": {},
   "source": [
    "## Data"
   ]
  },
  {
   "cell_type": "markdown",
   "metadata": {},
   "source": [
    "The data that will be used for this project will be the official data published by the government on their website (data.gov.uk). The latest data available is from the year 2018 and have been added to the government's website in September 2019. The data that will be analyzed are the Vehicle information, Casualties information and Accidents information."
   ]
  },
  {
   "cell_type": "markdown",
   "metadata": {},
   "source": [
    "## Methodology"
   ]
  },
  {
   "cell_type": "markdown",
   "metadata": {},
   "source": [
    "Two types of datasets were mostly used. The first is related to the vehicles involved in the accident and the second one to the casualties. Both datasets were cleaned, analysed and visualised."
   ]
  },
  {
   "cell_type": "markdown",
   "metadata": {},
   "source": [
    "## Results & Discussion"
   ]
  },
  {
   "cell_type": "markdown",
   "metadata": {},
   "source": [
    "The main result that can be understood by this research is that younger people, age between 20 and 55 years old are mostly involved in the car accidents that are taking place in the United Kingdom."
   ]
  },
  {
   "cell_type": "markdown",
   "metadata": {},
   "source": [
    "On the other hand, analysing the casualties from these car accidents, we can see that the majority of the casualties are people mostly above 60 years old."
   ]
  },
  {
   "cell_type": "markdown",
   "metadata": {},
   "source": [
    "The majority of the car accidents occured on rural roads and the lowest percentage occured on the motorway. But, the majority of casualties were on urban roads."
   ]
  },
  {
   "cell_type": "markdown",
   "metadata": {},
   "source": [
    "To have a better understanding of the severity of the car accidents and the injuries caused because of them, this data needs to be linked with hospital records."
   ]
  },
  {
   "cell_type": "markdown",
   "metadata": {},
   "source": [
    "## Conclusion"
   ]
  },
  {
   "cell_type": "markdown",
   "metadata": {},
   "source": [
    "To conclude, the drivers causing the car accidents are mostly of younger age which shows that drivers with less experience are most likely to cause a car accident. "
   ]
  },
  {
   "cell_type": "markdown",
   "metadata": {},
   "source": [
    "While older people involved in these car accidents are more likely to have fatal results on both drivers and passengers."
   ]
  },
  {
   "cell_type": "markdown",
   "metadata": {},
   "source": [
    "According to the road casualty data of previous years reported by the U.K. police, there is a slight decrease in the total injury accidents."
   ]
  },
  {
   "cell_type": "markdown",
   "metadata": {},
   "source": [
    "There are different variables affecting the vehicles on these accidents like skidding and overturning, vehicle location, vehicle leaving carriageway and towing and articulation"
   ]
  },
  {
   "cell_type": "markdown",
   "metadata": {},
   "source": [
    "The variables affecting the accidents are mostly the weather conditions, junction control, pedestrian crossing, junction type and road surface conditions."
   ]
  },
  {
   "cell_type": "markdown",
   "metadata": {},
   "source": [
    "As a result, the authorities need to improve road safety education on the younger and less experienced drivers to decrease even further the accidents caused by this group of people. Also, the roads need to be better maintained and signs warning drivers regarding the weather conditions should be placed."
   ]
  },
  {
   "cell_type": "code",
   "execution_count": null,
   "metadata": {},
   "outputs": [],
   "source": []
  }
 ],
 "metadata": {
  "kernelspec": {
   "display_name": "Python 3",
   "language": "python",
   "name": "python3"
  },
  "language_info": {
   "codemirror_mode": {
    "name": "ipython",
    "version": 3
   },
   "file_extension": ".py",
   "mimetype": "text/x-python",
   "name": "python",
   "nbconvert_exporter": "python",
   "pygments_lexer": "ipython3",
   "version": "3.7.6"
  }
 },
 "nbformat": 4,
 "nbformat_minor": 1
}
